{
 "cells": [
  {
   "cell_type": "code",
   "execution_count": 3,
   "metadata": {
    "collapsed": true
   },
   "outputs": [],
   "source": [
    "import sys\n",
    "\n",
    "import tensorflow as tf\n",
    "import pandas as pd\n",
    "\n",
    "sys.path.append(\"/home/thomas/projects/nilm_at_fair/repository\")\n",
    "from src.pulsed_power_ml.model_framework.data_io import read_training_files\n",
    "from src.pulsed_power_ml.models.gupta_model.tf_gupta_clf import TFGuptaClassifier"
   ]
  },
  {
   "cell_type": "markdown",
   "source": [
    "# Load training and validation data"
   ],
   "metadata": {
    "collapsed": false
   }
  },
  {
   "cell_type": "code",
   "execution_count": 4,
   "outputs": [],
   "source": [
    "# Load training data\n",
    "training_data_folder = \"/home/thomas/projects/nilm_at_fair/training_data/\"\n",
    "features_file = f\"{training_data_folder}/Features_ApparentPower.csv\"\n",
    "labels_file = f\"{training_data_folder}/Labels_ApparentPower.csv\"\n",
    "\n",
    "features = tf.constant(value=pd.read_csv(features_file).values, dtype=tf.float32)\n",
    "labels = tf.constant(value=pd.read_csv(labels_file).values, dtype=tf.float32)"
   ],
   "metadata": {
    "collapsed": false
   }
  },
  {
   "cell_type": "code",
   "execution_count": 7,
   "outputs": [],
   "source": [
    "# load apparent power list\n",
    "apparent_power_list = tf.constant(\n",
    "    value=[4.8, 480, 490, 24, 42, 42, 27, 33, 50, 50, 50],\n",
    "    dtype=tf.float32\n",
    ")"
   ],
   "metadata": {
    "collapsed": false
   }
  },
  {
   "cell_type": "code",
   "execution_count": null,
   "outputs": [],
   "source": [
    "# Load some GNU Radio data for simulated \"live data\"\n",
    "gr_data_folder = "
   ],
   "metadata": {
    "collapsed": false
   }
  }
 ],
 "metadata": {
  "kernelspec": {
   "display_name": "Python 3",
   "language": "python",
   "name": "python3"
  },
  "language_info": {
   "codemirror_mode": {
    "name": "ipython",
    "version": 2
   },
   "file_extension": ".py",
   "mimetype": "text/x-python",
   "name": "python",
   "nbconvert_exporter": "python",
   "pygments_lexer": "ipython2",
   "version": "2.7.6"
  }
 },
 "nbformat": 4,
 "nbformat_minor": 0
}
