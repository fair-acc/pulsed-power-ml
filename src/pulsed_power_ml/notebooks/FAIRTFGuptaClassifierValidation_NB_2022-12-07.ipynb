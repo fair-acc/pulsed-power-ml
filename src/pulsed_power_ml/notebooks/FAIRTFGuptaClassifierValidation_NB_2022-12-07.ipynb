{
 "cells": [
  {
   "cell_type": "code",
   "execution_count": 16,
   "outputs": [
    {
     "name": "stdout",
     "output_type": "stream",
     "text": [
      "/home/thomas/.venv/py10_kitchensink/bin/python3.10\n"
     ]
    }
   ],
   "source": [
    "import sys\n",
    "\n",
    "import tensorflow as tf\n",
    "import pandas as pd\n",
    "import numpy as np\n",
    "\n",
    "import yaml\n",
    "\n",
    "sys.path.append(\"/home/thomas/projects/nilm_at_fair/repository\")\n",
    "from src.pulsed_power_ml.model_framework.data_io import read_training_files\n",
    "from src.pulsed_power_ml.model_framework.visualizations import plot_data_point_array\n",
    "from src.pulsed_power_ml.model_framework.visualizations import plot_state_vector_array\n",
    "\n",
    "from src.pulsed_power_ml.models.gupta_model.tf_gupta_clf import TFGuptaClassifier\n",
    "\n",
    "from src.pulsed_power_ml.models.gupta_model.gupta_clf import GuptaClassifier\n",
    "\n",
    "print(sys.executable)"
   ],
   "metadata": {
    "collapsed": false
   }
  },
  {
   "cell_type": "markdown",
   "source": [],
   "metadata": {
    "collapsed": false
   }
  },
  {
   "cell_type": "markdown",
   "source": [
    "# Load training and validation data"
   ],
   "metadata": {
    "collapsed": false
   }
  },
  {
   "cell_type": "code",
   "execution_count": 17,
   "outputs": [],
   "source": [
    "# Load training data\n",
    "# training_data_folder = \"/home/thomas/projects/nilm_at_fair/training_data/more_labels_20221116/\"\n",
    "training_data_folder = \"/home/thomas/projects/nilm_at_fair/training_data/training_data_maria/fair/labels_20221202_9peaks/\"\n",
    "\n",
    "features_file = f\"{training_data_folder}/Features_ApparentPower_0.7_p.csv\"\n",
    "labels_file = f\"{training_data_folder}/Labels_ApparentPower_0.7_p.csv\"\n",
    "\n",
    "features = tf.constant(value=pd.read_csv(features_file).values, dtype=tf.float32)\n",
    "labels = tf.constant(value=pd.read_csv(labels_file).values, dtype=tf.float32)\n",
    "\n",
    "val_data_folder = \"/home/thomas/projects/nilm_at_fair/training_data/training_data_maria/fair/labels_20221202_9peaks_validation/\"\n",
    "\n",
    "features_val_file = f\"{val_data_folder}/Features_ApparentPower_0.3_p.csv\"\n",
    "labels_val_file = f\"{val_data_folder}/Labels_ApparentPower_0.3_p.csv\"\n",
    "\n",
    "features_val = tf.constant(value=pd.read_csv(features_val_file).values, dtype=tf.float32)\n",
    "labels_val = tf.constant(value=pd.read_csv(labels_val_file).values, dtype=tf.float32)"
   ],
   "metadata": {
    "collapsed": false
   }
  },
  {
   "cell_type": "code",
   "execution_count": 18,
   "outputs": [
    {
     "data": {
      "text/plain": "TensorShape([306, 23])"
     },
     "execution_count": 18,
     "metadata": {},
     "output_type": "execute_result"
    }
   ],
   "source": [
    "labels.shape"
   ],
   "metadata": {
    "collapsed": false
   }
  },
  {
   "cell_type": "code",
   "execution_count": 19,
   "outputs": [],
   "source": [
    "# load apparent power list\n",
    "apparent_power_data_base = \"/home/thomas/projects/nilm_at_fair/repository/src/pulsed_power_ml/models/gupta_model/apparent_power_data_base.yml\"\n",
    "\n",
    "with open(apparent_power_data_base) as yaml_file:\n",
    "    apparent_power_dict = yaml.load(yaml_file, Loader=yaml.loader.SafeLoader)\n",
    "\n",
    "appliance_names = apparent_power_dict.keys()\n",
    "\n",
    "apparent_power_list = tf.constant(\n",
    "    value=list(apparent_power_dict.values()),\n",
    "    dtype=tf.float32\n",
    ")"
   ],
   "metadata": {
    "collapsed": false
   }
  },
  {
   "cell_type": "code",
   "execution_count": 20,
   "outputs": [],
   "source": [
    "# Load some GNU Radio data for simulated \"live data\"\n",
    "gr_data_folder = \"/home/thomas/projects/nilm_at_fair/training_data/2022-11-16_training_data/r1\"\n",
    "data_point_array = read_training_files(path_to_folder=gr_data_folder,\n",
    "                                       fft_size=2**17)"
   ],
   "metadata": {
    "collapsed": false
   }
  },
  {
   "cell_type": "markdown",
   "source": [
    "# Instantiate TensorFlow Model"
   ],
   "metadata": {
    "collapsed": false
   }
  },
  {
   "cell_type": "code",
   "execution_count": 21,
   "outputs": [],
   "source": [
    "tf_model = TFGuptaClassifier(\n",
    "    background_n=tf.constant(2, dtype=tf.int32),\n",
    "    n_known_appliances=tf.constant(11, dtype=tf.int32),\n",
    "    apparent_power_list=apparent_power_list,\n",
    "    n_neighbors=tf.constant(3, dtype=tf.int32),\n",
    "    training_data_features=features,\n",
    "    training_data_labels=labels\n",
    ")"
   ],
   "metadata": {
    "collapsed": false
   }
  },
  {
   "cell_type": "code",
   "execution_count": 22,
   "outputs": [
    {
     "name": "stdout",
     "output_type": "stream",
     "text": [
      "[[198.364258]\n",
      " [228.881836]\n",
      " [259.399414]] [6253.84131 6429.42773 3003.44824]\n",
      "[[381.469727]\n",
      " [411.987305]\n",
      " [442.504883]] [2681.84424 4241.05664 3092.94653]\n",
      "[[595.092773]\n",
      " [625.610352]\n",
      " [656.12793]] [3288.5188 3655.90601 1855.35303]\n",
      "[[778.198242]\n",
      " [808.71582]\n",
      " [839.233398]] [2217.94263 3797.97 2985.16]\n",
      "[[991.821289]\n",
      " [1022.33887]\n",
      " [1052.85645]] [2313.25024 2767.98657 1516.67847]\n",
      "[[1174.92676]\n",
      " [1205.44434]\n",
      " [1235.96191]] [1216.54993 2238.62109 1877.79077]\n",
      "[[1388.5498]\n",
      " [1419.06738]\n",
      " [1449.58496]] [1515.07141 1939.6543 1129.22791]\n",
      "[[1571.65527]\n",
      " [1602.17285]\n",
      " [1632.69043]] [584.720093 1149.04675 1023.27332]\n",
      "[[1785.27832]\n",
      " [1815.7959]\n",
      " [1846.31348]] [696.658569 943.683167 578.747437]\n"
     ]
    },
    {
     "ename": "InvalidArgumentError",
     "evalue": "Exception encountered when calling layer 'TFGuptaClassifier' (type TFGuptaClassifier).\n\nGraph execution error:\n\nDetected at node 'div_no_nan' defined at (most recent call last):\n    File \"/usr/lib/python3.10/runpy.py\", line 196, in _run_module_as_main\n      return _run_code(code, main_globals, None,\n    File \"/usr/lib/python3.10/runpy.py\", line 86, in _run_code\n      exec(code, run_globals)\n    File \"/home/thomas/.venv/py10_kitchensink/lib/python3.10/site-packages/ipykernel_launcher.py\", line 17, in <module>\n      app.launch_new_instance()\n    File \"/home/thomas/.venv/py10_kitchensink/lib/python3.10/site-packages/traitlets/config/application.py\", line 985, in launch_instance\n      app.start()\n    File \"/home/thomas/.venv/py10_kitchensink/lib/python3.10/site-packages/ipykernel/kernelapp.py\", line 711, in start\n      self.io_loop.start()\n    File \"/home/thomas/.venv/py10_kitchensink/lib/python3.10/site-packages/tornado/platform/asyncio.py\", line 215, in start\n      self.asyncio_loop.run_forever()\n    File \"/usr/lib/python3.10/asyncio/base_events.py\", line 603, in run_forever\n      self._run_once()\n    File \"/usr/lib/python3.10/asyncio/base_events.py\", line 1906, in _run_once\n      handle._run()\n    File \"/usr/lib/python3.10/asyncio/events.py\", line 80, in _run\n      self._context.run(self._callback, *self._args)\n    File \"/home/thomas/.venv/py10_kitchensink/lib/python3.10/site-packages/ipykernel/kernelbase.py\", line 510, in dispatch_queue\n      await self.process_one()\n    File \"/home/thomas/.venv/py10_kitchensink/lib/python3.10/site-packages/ipykernel/kernelbase.py\", line 499, in process_one\n      await dispatch(*args)\n    File \"/home/thomas/.venv/py10_kitchensink/lib/python3.10/site-packages/ipykernel/kernelbase.py\", line 406, in dispatch_shell\n      await result\n    File \"/home/thomas/.venv/py10_kitchensink/lib/python3.10/site-packages/ipykernel/kernelbase.py\", line 729, in execute_request\n      reply_content = await reply_content\n    File \"/home/thomas/.venv/py10_kitchensink/lib/python3.10/site-packages/ipykernel/ipkernel.py\", line 411, in do_execute\n      res = shell.run_cell(\n    File \"/home/thomas/.venv/py10_kitchensink/lib/python3.10/site-packages/ipykernel/zmqshell.py\", line 533, in run_cell\n      return super().run_cell(*args, **kwargs)\n    File \"/home/thomas/.venv/py10_kitchensink/lib/python3.10/site-packages/IPython/core/interactiveshell.py\", line 2940, in run_cell\n      result = self._run_cell(\n    File \"/home/thomas/.venv/py10_kitchensink/lib/python3.10/site-packages/IPython/core/interactiveshell.py\", line 2995, in _run_cell\n      return runner(coro)\n    File \"/home/thomas/.venv/py10_kitchensink/lib/python3.10/site-packages/IPython/core/async_helpers.py\", line 129, in _pseudo_sync_runner\n      coro.send(None)\n    File \"/home/thomas/.venv/py10_kitchensink/lib/python3.10/site-packages/IPython/core/interactiveshell.py\", line 3194, in run_cell_async\n      has_raised = await self.run_ast_nodes(code_ast.body, cell_name,\n    File \"/home/thomas/.venv/py10_kitchensink/lib/python3.10/site-packages/IPython/core/interactiveshell.py\", line 3373, in run_ast_nodes\n      if await self.run_code(code, result, async_=asy):\n    File \"/home/thomas/.venv/py10_kitchensink/lib/python3.10/site-packages/IPython/core/interactiveshell.py\", line 3433, in run_code\n      exec(code_obj, self.user_global_ns, self.user_ns)\n    File \"/tmp/ipykernel_23580/2305134536.py\", line 3, in <module>\n      state_vector = tf_model(tf.constant(data_point, dtype=tf.float32))\n    File \"/home/thomas/.venv/py10_kitchensink/lib/python3.10/site-packages/keras/utils/traceback_utils.py\", line 65, in error_handler\n      return fn(*args, **kwargs)\n    File \"/home/thomas/.venv/py10_kitchensink/lib/python3.10/site-packages/keras/engine/training.py\", line 561, in __call__\n      return super().__call__(*args, **kwargs)\n    File \"/home/thomas/.venv/py10_kitchensink/lib/python3.10/site-packages/keras/utils/traceback_utils.py\", line 65, in error_handler\n      return fn(*args, **kwargs)\n    File \"/home/thomas/.venv/py10_kitchensink/lib/python3.10/site-packages/keras/engine/base_layer.py\", line 1132, in __call__\n      outputs = call_fn(inputs, *args, **kwargs)\n    File \"/home/thomas/.venv/py10_kitchensink/lib/python3.10/site-packages/keras/utils/traceback_utils.py\", line 96, in error_handler\n      return fn(*args, **kwargs)\n    File \"/home/thomas/projects/nilm_at_fair/repository/src/pulsed_power_ml/models/gupta_model/tf_gupta_clf.py\", line 239, in call\n      if tf.math.equal(self.skip_data_point, tf.constant(True, dtype=tf.bool)):\n    File \"/home/thomas/projects/nilm_at_fair/repository/src/pulsed_power_ml/models/gupta_model/tf_gupta_clf.py\", line 242, in call\n      if tf.math.less(self.n_data_points_skipped, self.switching_offset):\n    File \"/home/thomas/projects/nilm_at_fair/repository/src/pulsed_power_ml/models/gupta_model/tf_gupta_clf.py\", line 265, in call\n      self.current_state_vector.assign(\n    File \"/home/thomas/projects/nilm_at_fair/repository/src/pulsed_power_ml/models/gupta_model/tf_gupta_clf.py\", line 507, in classify_switching_event\n      distances, event_class = self.call_knn(feature_vector)\n    File \"/home/thomas/projects/nilm_at_fair/repository/src/pulsed_power_ml/models/gupta_model/tf_gupta_clf.py\", line 159, in call_knn\n      scaled_input = tf.math.divide_no_nan(input,\nNode: 'div_no_nan'\nIncompatible shapes: [0,1] vs. [27,1]\n\t [[{{node div_no_nan}}]] [Op:__inference_call_2112]\n\nCall arguments received by layer 'TFGuptaClassifier' (type TFGuptaClassifier):\n  • X=tf.Tensor(shape=(196612,), dtype=float32)",
     "output_type": "error",
     "traceback": [
      "\u001B[0;31m---------------------------------------------------------------------------\u001B[0m",
      "\u001B[0;31mInvalidArgumentError\u001B[0m                      Traceback (most recent call last)",
      "Cell \u001B[0;32mIn[22], line 3\u001B[0m\n\u001B[1;32m      1\u001B[0m state_vector_list \u001B[38;5;241m=\u001B[39m \u001B[38;5;28mlist\u001B[39m()\n\u001B[1;32m      2\u001B[0m \u001B[38;5;28;01mfor\u001B[39;00m data_point \u001B[38;5;129;01min\u001B[39;00m data_point_array:\n\u001B[0;32m----> 3\u001B[0m     state_vector \u001B[38;5;241m=\u001B[39m \u001B[43mtf_model\u001B[49m\u001B[43m(\u001B[49m\u001B[43mtf\u001B[49m\u001B[38;5;241;43m.\u001B[39;49m\u001B[43mconstant\u001B[49m\u001B[43m(\u001B[49m\u001B[43mdata_point\u001B[49m\u001B[43m,\u001B[49m\u001B[43m \u001B[49m\u001B[43mdtype\u001B[49m\u001B[38;5;241;43m=\u001B[39;49m\u001B[43mtf\u001B[49m\u001B[38;5;241;43m.\u001B[39;49m\u001B[43mfloat32\u001B[49m\u001B[43m)\u001B[49m\u001B[43m)\u001B[49m\n\u001B[1;32m      4\u001B[0m     state_vector_list\u001B[38;5;241m.\u001B[39mappend(state_vector)\n",
      "File \u001B[0;32m~/.venv/py10_kitchensink/lib/python3.10/site-packages/keras/utils/traceback_utils.py:70\u001B[0m, in \u001B[0;36mfilter_traceback.<locals>.error_handler\u001B[0;34m(*args, **kwargs)\u001B[0m\n\u001B[1;32m     67\u001B[0m     filtered_tb \u001B[38;5;241m=\u001B[39m _process_traceback_frames(e\u001B[38;5;241m.\u001B[39m__traceback__)\n\u001B[1;32m     68\u001B[0m     \u001B[38;5;66;03m# To get the full stack trace, call:\u001B[39;00m\n\u001B[1;32m     69\u001B[0m     \u001B[38;5;66;03m# `tf.debugging.disable_traceback_filtering()`\u001B[39;00m\n\u001B[0;32m---> 70\u001B[0m     \u001B[38;5;28;01mraise\u001B[39;00m e\u001B[38;5;241m.\u001B[39mwith_traceback(filtered_tb) \u001B[38;5;28;01mfrom\u001B[39;00m \u001B[38;5;28mNone\u001B[39m\n\u001B[1;32m     71\u001B[0m \u001B[38;5;28;01mfinally\u001B[39;00m:\n\u001B[1;32m     72\u001B[0m     \u001B[38;5;28;01mdel\u001B[39;00m filtered_tb\n",
      "File \u001B[0;32m~/.venv/py10_kitchensink/lib/python3.10/site-packages/tensorflow/python/eager/execute.py:52\u001B[0m, in \u001B[0;36mquick_execute\u001B[0;34m(op_name, num_outputs, inputs, attrs, ctx, name)\u001B[0m\n\u001B[1;32m     50\u001B[0m \u001B[38;5;28;01mtry\u001B[39;00m:\n\u001B[1;32m     51\u001B[0m   ctx\u001B[38;5;241m.\u001B[39mensure_initialized()\n\u001B[0;32m---> 52\u001B[0m   tensors \u001B[38;5;241m=\u001B[39m pywrap_tfe\u001B[38;5;241m.\u001B[39mTFE_Py_Execute(ctx\u001B[38;5;241m.\u001B[39m_handle, device_name, op_name,\n\u001B[1;32m     53\u001B[0m                                       inputs, attrs, num_outputs)\n\u001B[1;32m     54\u001B[0m \u001B[38;5;28;01mexcept\u001B[39;00m core\u001B[38;5;241m.\u001B[39m_NotOkStatusException \u001B[38;5;28;01mas\u001B[39;00m e:\n\u001B[1;32m     55\u001B[0m   \u001B[38;5;28;01mif\u001B[39;00m name \u001B[38;5;129;01mis\u001B[39;00m \u001B[38;5;129;01mnot\u001B[39;00m \u001B[38;5;28;01mNone\u001B[39;00m:\n",
      "\u001B[0;31mInvalidArgumentError\u001B[0m: Exception encountered when calling layer 'TFGuptaClassifier' (type TFGuptaClassifier).\n\nGraph execution error:\n\nDetected at node 'div_no_nan' defined at (most recent call last):\n    File \"/usr/lib/python3.10/runpy.py\", line 196, in _run_module_as_main\n      return _run_code(code, main_globals, None,\n    File \"/usr/lib/python3.10/runpy.py\", line 86, in _run_code\n      exec(code, run_globals)\n    File \"/home/thomas/.venv/py10_kitchensink/lib/python3.10/site-packages/ipykernel_launcher.py\", line 17, in <module>\n      app.launch_new_instance()\n    File \"/home/thomas/.venv/py10_kitchensink/lib/python3.10/site-packages/traitlets/config/application.py\", line 985, in launch_instance\n      app.start()\n    File \"/home/thomas/.venv/py10_kitchensink/lib/python3.10/site-packages/ipykernel/kernelapp.py\", line 711, in start\n      self.io_loop.start()\n    File \"/home/thomas/.venv/py10_kitchensink/lib/python3.10/site-packages/tornado/platform/asyncio.py\", line 215, in start\n      self.asyncio_loop.run_forever()\n    File \"/usr/lib/python3.10/asyncio/base_events.py\", line 603, in run_forever\n      self._run_once()\n    File \"/usr/lib/python3.10/asyncio/base_events.py\", line 1906, in _run_once\n      handle._run()\n    File \"/usr/lib/python3.10/asyncio/events.py\", line 80, in _run\n      self._context.run(self._callback, *self._args)\n    File \"/home/thomas/.venv/py10_kitchensink/lib/python3.10/site-packages/ipykernel/kernelbase.py\", line 510, in dispatch_queue\n      await self.process_one()\n    File \"/home/thomas/.venv/py10_kitchensink/lib/python3.10/site-packages/ipykernel/kernelbase.py\", line 499, in process_one\n      await dispatch(*args)\n    File \"/home/thomas/.venv/py10_kitchensink/lib/python3.10/site-packages/ipykernel/kernelbase.py\", line 406, in dispatch_shell\n      await result\n    File \"/home/thomas/.venv/py10_kitchensink/lib/python3.10/site-packages/ipykernel/kernelbase.py\", line 729, in execute_request\n      reply_content = await reply_content\n    File \"/home/thomas/.venv/py10_kitchensink/lib/python3.10/site-packages/ipykernel/ipkernel.py\", line 411, in do_execute\n      res = shell.run_cell(\n    File \"/home/thomas/.venv/py10_kitchensink/lib/python3.10/site-packages/ipykernel/zmqshell.py\", line 533, in run_cell\n      return super().run_cell(*args, **kwargs)\n    File \"/home/thomas/.venv/py10_kitchensink/lib/python3.10/site-packages/IPython/core/interactiveshell.py\", line 2940, in run_cell\n      result = self._run_cell(\n    File \"/home/thomas/.venv/py10_kitchensink/lib/python3.10/site-packages/IPython/core/interactiveshell.py\", line 2995, in _run_cell\n      return runner(coro)\n    File \"/home/thomas/.venv/py10_kitchensink/lib/python3.10/site-packages/IPython/core/async_helpers.py\", line 129, in _pseudo_sync_runner\n      coro.send(None)\n    File \"/home/thomas/.venv/py10_kitchensink/lib/python3.10/site-packages/IPython/core/interactiveshell.py\", line 3194, in run_cell_async\n      has_raised = await self.run_ast_nodes(code_ast.body, cell_name,\n    File \"/home/thomas/.venv/py10_kitchensink/lib/python3.10/site-packages/IPython/core/interactiveshell.py\", line 3373, in run_ast_nodes\n      if await self.run_code(code, result, async_=asy):\n    File \"/home/thomas/.venv/py10_kitchensink/lib/python3.10/site-packages/IPython/core/interactiveshell.py\", line 3433, in run_code\n      exec(code_obj, self.user_global_ns, self.user_ns)\n    File \"/tmp/ipykernel_23580/2305134536.py\", line 3, in <module>\n      state_vector = tf_model(tf.constant(data_point, dtype=tf.float32))\n    File \"/home/thomas/.venv/py10_kitchensink/lib/python3.10/site-packages/keras/utils/traceback_utils.py\", line 65, in error_handler\n      return fn(*args, **kwargs)\n    File \"/home/thomas/.venv/py10_kitchensink/lib/python3.10/site-packages/keras/engine/training.py\", line 561, in __call__\n      return super().__call__(*args, **kwargs)\n    File \"/home/thomas/.venv/py10_kitchensink/lib/python3.10/site-packages/keras/utils/traceback_utils.py\", line 65, in error_handler\n      return fn(*args, **kwargs)\n    File \"/home/thomas/.venv/py10_kitchensink/lib/python3.10/site-packages/keras/engine/base_layer.py\", line 1132, in __call__\n      outputs = call_fn(inputs, *args, **kwargs)\n    File \"/home/thomas/.venv/py10_kitchensink/lib/python3.10/site-packages/keras/utils/traceback_utils.py\", line 96, in error_handler\n      return fn(*args, **kwargs)\n    File \"/home/thomas/projects/nilm_at_fair/repository/src/pulsed_power_ml/models/gupta_model/tf_gupta_clf.py\", line 239, in call\n      if tf.math.equal(self.skip_data_point, tf.constant(True, dtype=tf.bool)):\n    File \"/home/thomas/projects/nilm_at_fair/repository/src/pulsed_power_ml/models/gupta_model/tf_gupta_clf.py\", line 242, in call\n      if tf.math.less(self.n_data_points_skipped, self.switching_offset):\n    File \"/home/thomas/projects/nilm_at_fair/repository/src/pulsed_power_ml/models/gupta_model/tf_gupta_clf.py\", line 265, in call\n      self.current_state_vector.assign(\n    File \"/home/thomas/projects/nilm_at_fair/repository/src/pulsed_power_ml/models/gupta_model/tf_gupta_clf.py\", line 507, in classify_switching_event\n      distances, event_class = self.call_knn(feature_vector)\n    File \"/home/thomas/projects/nilm_at_fair/repository/src/pulsed_power_ml/models/gupta_model/tf_gupta_clf.py\", line 159, in call_knn\n      scaled_input = tf.math.divide_no_nan(input,\nNode: 'div_no_nan'\nIncompatible shapes: [0,1] vs. [27,1]\n\t [[{{node div_no_nan}}]] [Op:__inference_call_2112]\n\nCall arguments received by layer 'TFGuptaClassifier' (type TFGuptaClassifier):\n  • X=tf.Tensor(shape=(196612,), dtype=float32)"
     ]
    }
   ],
   "source": [
    "state_vector_list = list()\n",
    "for data_point in data_point_array:\n",
    "    state_vector = tf_model.predict(tf.constant(data_point, dtype=tf.float32))\n",
    "    state_vector_list.append(state_vector)"
   ],
   "metadata": {
    "collapsed": false
   }
  },
  {
   "cell_type": "code",
   "execution_count": null,
   "outputs": [],
   "source": [
    "fig = plot_state_vector_array(state_vector_list=np.array(state_vector_list),\n",
    "                              label_list=list(appliance_names),\n",
    "                              true_apparent_power=data_point_array[:,-2])\n",
    "fig.savefig=(\"/home/thomas/projects/nilm_at_fair/training_data/model_validation/tf_model_r1_plot.pdf\")"
   ],
   "metadata": {
    "collapsed": false
   }
  },
  {
   "cell_type": "markdown",
   "source": [
    "# Instantiate Python model"
   ],
   "metadata": {
    "collapsed": false
   }
  },
  {
   "cell_type": "code",
   "execution_count": null,
   "outputs": [],
   "source": [
    "py_app_power_list = list()\n",
    "for app_power in apparent_power_list:\n",
    "    py_app_power_list.append((\"app_name\", app_power))\n",
    "\n",
    "py_model = GuptaClassifier(\n",
    "    background_n=2,\n",
    "    spectrum_type=2,\n",
    "    apparent_power_list=py_app_power_list,\n",
    "    n_neighbors=3,\n",
    "    n_peaks_max=9,\n",
    "    distance_threshold=1000,\n",
    "    n_known_appliances=11,\n",
    ")"
   ],
   "metadata": {
    "collapsed": false
   }
  },
  {
   "cell_type": "code",
   "execution_count": null,
   "outputs": [],
   "source": [
    "_ = py_model.fit(features,\n",
    "                 labels)"
   ],
   "metadata": {
    "collapsed": false
   }
  },
  {
   "cell_type": "code",
   "execution_count": null,
   "outputs": [],
   "source": [
    "state_vector_list_py = list()\n",
    "for data_point in data_point_array:\n",
    "    state_vector = py_model.predict(data_point)\n",
    "    state_vector_list_py.append(state_vector)"
   ],
   "metadata": {
    "collapsed": false
   }
  },
  {
   "cell_type": "code",
   "execution_count": null,
   "outputs": [],
   "source": [
    "# fig = plot_data_point_array(data_point_array,\n",
    "#                             2**17,\n",
    "#                             state_vector_list_py)\n",
    "# fig.savefig(\"/home/thomas/projects/nilm_at_fair/training_data/model_validation/py_model_fp1_no_spectra.pdf\")"
   ],
   "metadata": {
    "collapsed": false
   }
  },
  {
   "cell_type": "code",
   "execution_count": null,
   "outputs": [],
   "source": [
    "fig = plot_state_vector_array(state_vector_list=np.array(state_vector_list_py),\n",
    "                              label_list=list(appliance_names),\n",
    "                              true_apparent_power=data_point_array[:,-2])\n",
    "fig.savefig=(\"/home/thomas/projects/nilm_at_fair/training_data/model_validation/py_model_r1_alt_plot.pdf\")"
   ],
   "metadata": {
    "collapsed": false
   }
  },
  {
   "cell_type": "code",
   "execution_count": null,
   "outputs": [],
   "source": [],
   "metadata": {
    "collapsed": false
   }
  }
 ],
 "metadata": {
  "kernelspec": {
   "display_name": "Python 3",
   "language": "python",
   "name": "python3"
  },
  "language_info": {
   "codemirror_mode": {
    "name": "ipython",
    "version": 2
   },
   "file_extension": ".py",
   "mimetype": "text/x-python",
   "name": "python",
   "nbconvert_exporter": "python",
   "pygments_lexer": "ipython2",
   "version": "2.7.6"
  }
 },
 "nbformat": 4,
 "nbformat_minor": 0
}
