{
 "cells": [
  {
   "cell_type": "code",
   "execution_count": null,
   "metadata": {
    "collapsed": true
   },
   "outputs": [],
   "source": [
    "import numpy as np\n",
    "import matplotlib.pyplot as plt\n",
    "\n",
    "from sklearn.neighbors import KNeighborsClassifier\n",
    "import sys"
   ]
  },
  {
   "cell_type": "code",
   "execution_count": null,
   "outputs": [],
   "source": [
    "sys.executable"
   ],
   "metadata": {
    "collapsed": false
   }
  },
  {
   "cell_type": "markdown",
   "source": [
    "# Load data"
   ],
   "metadata": {
    "collapsed": false
   }
  },
  {
   "cell_type": "code",
   "execution_count": null,
   "outputs": [],
   "source": [
    "fft_size = 2**14\n",
    "sample_size = 200_000\n",
    "sec_per_fft = fft_size / sample_size\n",
    "freq_per_bin = sample_size / fft_size"
   ],
   "metadata": {
    "collapsed": false
   }
  },
  {
   "cell_type": "code",
   "execution_count": null,
   "outputs": [],
   "source": [
    "power_spectrum_file = \"/home/thomas/projects/nilm_at_fair/training_data/training_data_2022-10-12/MixedOnOff-FFTVolatage-200KS-FFTSize16k_DAT_2022-10-12\"\n",
    "power_spectrum = np.fromfile(power_spectrum_file, dtype=np.float32).reshape((-1,fft_size))\n",
    "power_spectrum_real = power_spectrum[:,0:int(fft_size/2)]\n",
    "frequencies = (np.arange(fft_size / 2) * freq_per_bin + freq_per_bin / 2) * 0.001"
   ],
   "metadata": {
    "collapsed": false
   }
  },
  {
   "cell_type": "code",
   "execution_count": null,
   "outputs": [],
   "source": [
    "freq_per_bin"
   ],
   "metadata": {
    "collapsed": false
   }
  },
  {
   "cell_type": "code",
   "execution_count": null,
   "outputs": [],
   "source": [
    "power_spectrum_real.shape"
   ],
   "metadata": {
    "collapsed": false
   }
  },
  {
   "cell_type": "code",
   "execution_count": null,
   "outputs": [],
   "source": [
    "fig = plt.figure(figsize=(16, 9))\n",
    "ax = fig.add_subplot(111)\n",
    "\n",
    "ax.plot(frequencies,\n",
    "        power_spectrum_real[0])\n",
    "ax.grid(True)\n",
    "ax.set_xlabel('Frequency[kHz]')"
   ],
   "metadata": {
    "collapsed": false
   }
  },
  {
   "cell_type": "code",
   "execution_count": null,
   "outputs": [],
   "source": [
    "fig = plt.figure(dpi=500, figsize=(16, 9))\n",
    "ax = fig.add_subplot(111)\n",
    "\n",
    "im = ax.imshow(X=power_spectrum_real.T,\n",
    "               aspect='auto',\n",
    "               interpolation='none',\n",
    "               origin='lower')\n",
    "\n",
    "# add Frequency labels\n",
    "y_labels = np.arange(0, 100_001, 10_000)\n",
    "y_label_positions = y_labels / freq_per_bin\n",
    "ax.set_yticks(ticks=y_label_positions, labels=y_labels / 1_000)\n",
    "ax.set_ylabel(\"Frequency [kHz]\")\n",
    "\n",
    "# add time labels\n",
    "t_max = power_spectrum_real.shape[0] * sec_per_fft\n",
    "x_labels = np.arange(0, t_max, 10)\n",
    "x_tick_positions = x_labels / sec_per_fft\n",
    "ax.set_xticks(x_tick_positions, x_labels)\n",
    "ax.set_xlabel('Time [s]')\n",
    "\n",
    "fig.colorbar(im, ax=ax)\n",
    "\n",
    "ax.set_title('Current Spectrum Versus Time')\n",
    "\n",
    "fig.savefig('/home/thomas/projects/nilm_at_fair/mixed_voltage_spectrum_vs_time.png')\n"
   ],
   "metadata": {
    "collapsed": false
   }
  },
  {
   "cell_type": "code",
   "execution_count": null,
   "outputs": [],
   "source": [
    "t_max = power_spectrum_real.shape[0] * sec_per_fft\n",
    "x_labels = np.arange(0, t_max, 10)\n",
    "x_tick_positions = x_labels / sec_per_fft\n",
    "ax.set_xticks(x_tick_positions, x_labels)"
   ],
   "metadata": {
    "collapsed": false
   }
  },
  {
   "cell_type": "code",
   "execution_count": null,
   "outputs": [],
   "source": [
    "ax"
   ],
   "metadata": {
    "collapsed": false
   }
  },
  {
   "cell_type": "code",
   "execution_count": null,
   "outputs": [],
   "source": [
    "f = np.fromfile(open(\"/home/thomas/projects/nilm_at_fair/gnu_radio/gnu_radio/fft_file_sink_test\"), dtype=np.float32)"
   ],
   "metadata": {
    "collapsed": false
   }
  },
  {
   "cell_type": "code",
   "execution_count": null,
   "outputs": [],
   "source": [
    "f.shape"
   ],
   "metadata": {
    "collapsed": false
   }
  },
  {
   "cell_type": "code",
   "execution_count": null,
   "outputs": [],
   "source": [
    "f_reshaped = f.reshape((-1,1000))"
   ],
   "metadata": {
    "collapsed": false
   }
  },
  {
   "cell_type": "code",
   "execution_count": null,
   "outputs": [],
   "source": [
    "f_reshaped.shape"
   ],
   "metadata": {
    "collapsed": false
   }
  },
  {
   "cell_type": "code",
   "execution_count": null,
   "outputs": [],
   "source": [
    "fig = plt.figure(figsize=(16, 9))\n",
    "ax = fig.add_subplot(111)\n",
    "ax.plot(f_reshaped[1])\n",
    "ax.grid()"
   ],
   "metadata": {
    "collapsed": false
   }
  },
  {
   "cell_type": "code",
   "execution_count": null,
   "outputs": [],
   "source": [
    "10150 / 1000"
   ],
   "metadata": {
    "collapsed": false
   }
  },
  {
   "cell_type": "code",
   "execution_count": null,
   "outputs": [],
   "source": [
    "import glob"
   ],
   "metadata": {
    "collapsed": false
   }
  },
  {
   "cell_type": "code",
   "execution_count": null,
   "outputs": [],
   "source": [
    "active_power_file = \"/home/thomas/projects/nilm_at_fair/training_data/training_data_2022-10-12/halo/HaloOnOff-P-200KS_DAT_2022-10-12\"\n",
    "active_power = np.fromfile(active_power_file, dtype=np.float32)"
   ],
   "metadata": {
    "collapsed": false
   }
  },
  {
   "cell_type": "code",
   "execution_count": null,
   "outputs": [],
   "source": [
    "active_power.shape[0] / 192"
   ],
   "metadata": {
    "collapsed": false
   }
  },
  {
   "cell_type": "code",
   "execution_count": null,
   "outputs": [],
   "source": [
    "fig = plt.figure()\n",
    "ax = fig.add_subplot(111)\n",
    "ax.plot(active_power)"
   ],
   "metadata": {
    "collapsed": false
   }
  },
  {
   "cell_type": "code",
   "execution_count": null,
   "outputs": [],
   "source": [
    "active_power.shape"
   ],
   "metadata": {
    "collapsed": false
   }
  },
  {
   "cell_type": "code",
   "execution_count": null,
   "outputs": [],
   "source": [
    "type(ax)"
   ],
   "metadata": {
    "collapsed": false
   }
  },
  {
   "cell_type": "code",
   "execution_count": null,
   "outputs": [],
   "source": [
    "type(fig)"
   ],
   "metadata": {
    "collapsed": false
   }
  },
  {
   "cell_type": "markdown",
   "source": [
    "# Test modules"
   ],
   "metadata": {
    "collapsed": false
   }
  },
  {
   "cell_type": "code",
   "execution_count": 6,
   "outputs": [],
   "source": [
    "import sys\n",
    "import matplotlib.pyplot as plt\n",
    "import numpy as np"
   ],
   "metadata": {
    "collapsed": false
   }
  },
  {
   "cell_type": "code",
   "execution_count": 7,
   "outputs": [],
   "source": [
    "sys.path.append(\"/home/thomas/projects/nilm_at_fair/repository/\")"
   ],
   "metadata": {
    "collapsed": false
   }
  },
  {
   "cell_type": "code",
   "execution_count": 8,
   "outputs": [],
   "source": [
    "from src.pulsed_power_ml.model_framework.data_io import read_training_files\n",
    "from src.pulsed_power_ml.model_framework.visualizations import add_contour_plot, plot_data_point_array"
   ],
   "metadata": {
    "collapsed": false
   }
  },
  {
   "cell_type": "code",
   "execution_count": 11,
   "outputs": [],
   "source": [
    "fft_size = 2**14\n",
    "data_point_array = read_training_files(\n",
    "    \"/home/thomas/projects/nilm_at_fair/training_data/training_data_2022-10-12/tube/\",\n",
    "    fft_size=fft_size,\n",
    "    sample_size=200_000,\n",
    ")"
   ],
   "metadata": {
    "collapsed": false
   }
  },
  {
   "cell_type": "code",
   "execution_count": null,
   "outputs": [],
   "source": [
    "fig = plot_data_point_array(data_point_array,\n",
    "                            fft_size)\n",
    "\n",
    "fig.savefig(\"/home/thomas/projects/nilm_at_fair/training_data/training_data_2022-10-12/tube/figures/test.png\")"
   ],
   "metadata": {
    "collapsed": false,
    "pycharm": {
     "is_executing": true
    }
   }
  },
  {
   "cell_type": "code",
   "execution_count": null,
   "outputs": [],
   "source": [],
   "metadata": {
    "collapsed": false
   }
  }
 ],
 "metadata": {
  "kernelspec": {
   "display_name": "Python 3",
   "language": "python",
   "name": "python3"
  },
  "language_info": {
   "codemirror_mode": {
    "name": "ipython",
    "version": 2
   },
   "file_extension": ".py",
   "mimetype": "text/x-python",
   "name": "python",
   "nbconvert_exporter": "python",
   "pygments_lexer": "ipython2",
   "version": "2.7.6"
  }
 },
 "nbformat": 4,
 "nbformat_minor": 0
}
