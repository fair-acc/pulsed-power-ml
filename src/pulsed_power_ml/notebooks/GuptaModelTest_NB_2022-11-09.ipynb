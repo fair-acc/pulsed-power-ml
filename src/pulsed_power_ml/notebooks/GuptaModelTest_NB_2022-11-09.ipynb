{
 "cells": [
  {
   "cell_type": "code",
   "execution_count": 17,
   "outputs": [],
   "source": [
    "import sys\n",
    "sys.path.append(\"../../../repository\")\n",
    "import numpy as np"
   ],
   "metadata": {
    "collapsed": false
   }
  },
  {
   "cell_type": "code",
   "execution_count": 18,
   "outputs": [],
   "source": [
    "from src.pulsed_power_ml.models.gupta_model.gupta_clf import GuptaClassifier\n",
    "from src.pulsed_power_ml.models.gupta_model.gupta_utils import read_power_data_base\n",
    "from src.pulsed_power_ml.models.gupta_model.gupta_utils import read_parameters\n",
    "\n",
    "from src.pulsed_power_ml.model_framework.data_io import read_training_files"
   ],
   "metadata": {
    "collapsed": false
   }
  },
  {
   "cell_type": "code",
   "execution_count": 19,
   "outputs": [],
   "source": [
    "power_db_file = \"/home/thomas/projects/nilm_at_fair/repository/src/pulsed_power_ml/models/gupta_model/apparent_power_data_base.yml\"\n",
    "parameter_file = \"/home/thomas/projects/nilm_at_fair/repository/src/pulsed_power_ml/models/gupta_model/parameters.yml\"\n",
    "data_folder = \"/home/thomas/projects/nilm_at_fair/training_data/2022-10-25_training_data/tube/\""
   ],
   "metadata": {
    "collapsed": false
   }
  },
  {
   "cell_type": "code",
   "execution_count": 20,
   "outputs": [],
   "source": [
    "apparent_power_list = read_power_data_base(power_db_file)\n",
    "parameter_dict = read_parameters(parameter_file)"
   ],
   "metadata": {
    "collapsed": false
   }
  },
  {
   "cell_type": "code",
   "execution_count": 31,
   "outputs": [],
   "source": [
    "clf = GuptaClassifier(\n",
    "    background_n=parameter_dict[\"background_n\"],\n",
    "    fft_size_real=parameter_dict[\"fft_size\"] / 2,\n",
    "    sample_rate=parameter_dict[\"sample_rate\"],\n",
    "    n_known_appliances=6, # just for this test\n",
    "    spectrum_type=2,\n",
    "    n_peaks_max=3,\n",
    "    apparent_power_list=apparent_power_list,\n",
    ")"
   ],
   "metadata": {
    "collapsed": false
   }
  },
  {
   "cell_type": "code",
   "execution_count": 32,
   "outputs": [],
   "source": [
    "dummy_X = np.random.rand(9, 9)\n",
    "dummy_y = np.array([[1, 0, 0, 0, 0, 0, 0], [0, 1, 0, 0, 0, 0, 0], [0, 0, 1, 0, 0, 0, 0]] * 3)"
   ],
   "metadata": {
    "collapsed": false
   }
  },
  {
   "cell_type": "code",
   "execution_count": 33,
   "outputs": [
    {
     "data": {
      "text/plain": "GuptaClassifier(apparent_power_list=[('fluorescent_0', 50.0),\n                                     ('halogen_0', 45.9), ('led_0', 5.8)],\n                n_known_appliances=6, n_peaks_max=3, spectrum_type=2)",
      "text/html": "<style>#sk-container-id-3 {color: black;background-color: white;}#sk-container-id-3 pre{padding: 0;}#sk-container-id-3 div.sk-toggleable {background-color: white;}#sk-container-id-3 label.sk-toggleable__label {cursor: pointer;display: block;width: 100%;margin-bottom: 0;padding: 0.3em;box-sizing: border-box;text-align: center;}#sk-container-id-3 label.sk-toggleable__label-arrow:before {content: \"▸\";float: left;margin-right: 0.25em;color: #696969;}#sk-container-id-3 label.sk-toggleable__label-arrow:hover:before {color: black;}#sk-container-id-3 div.sk-estimator:hover label.sk-toggleable__label-arrow:before {color: black;}#sk-container-id-3 div.sk-toggleable__content {max-height: 0;max-width: 0;overflow: hidden;text-align: left;background-color: #f0f8ff;}#sk-container-id-3 div.sk-toggleable__content pre {margin: 0.2em;color: black;border-radius: 0.25em;background-color: #f0f8ff;}#sk-container-id-3 input.sk-toggleable__control:checked~div.sk-toggleable__content {max-height: 200px;max-width: 100%;overflow: auto;}#sk-container-id-3 input.sk-toggleable__control:checked~label.sk-toggleable__label-arrow:before {content: \"▾\";}#sk-container-id-3 div.sk-estimator input.sk-toggleable__control:checked~label.sk-toggleable__label {background-color: #d4ebff;}#sk-container-id-3 div.sk-label input.sk-toggleable__control:checked~label.sk-toggleable__label {background-color: #d4ebff;}#sk-container-id-3 input.sk-hidden--visually {border: 0;clip: rect(1px 1px 1px 1px);clip: rect(1px, 1px, 1px, 1px);height: 1px;margin: -1px;overflow: hidden;padding: 0;position: absolute;width: 1px;}#sk-container-id-3 div.sk-estimator {font-family: monospace;background-color: #f0f8ff;border: 1px dotted black;border-radius: 0.25em;box-sizing: border-box;margin-bottom: 0.5em;}#sk-container-id-3 div.sk-estimator:hover {background-color: #d4ebff;}#sk-container-id-3 div.sk-parallel-item::after {content: \"\";width: 100%;border-bottom: 1px solid gray;flex-grow: 1;}#sk-container-id-3 div.sk-label:hover label.sk-toggleable__label {background-color: #d4ebff;}#sk-container-id-3 div.sk-serial::before {content: \"\";position: absolute;border-left: 1px solid gray;box-sizing: border-box;top: 0;bottom: 0;left: 50%;z-index: 0;}#sk-container-id-3 div.sk-serial {display: flex;flex-direction: column;align-items: center;background-color: white;padding-right: 0.2em;padding-left: 0.2em;position: relative;}#sk-container-id-3 div.sk-item {position: relative;z-index: 1;}#sk-container-id-3 div.sk-parallel {display: flex;align-items: stretch;justify-content: center;background-color: white;position: relative;}#sk-container-id-3 div.sk-item::before, #sk-container-id-3 div.sk-parallel-item::before {content: \"\";position: absolute;border-left: 1px solid gray;box-sizing: border-box;top: 0;bottom: 0;left: 50%;z-index: -1;}#sk-container-id-3 div.sk-parallel-item {display: flex;flex-direction: column;z-index: 1;position: relative;background-color: white;}#sk-container-id-3 div.sk-parallel-item:first-child::after {align-self: flex-end;width: 50%;}#sk-container-id-3 div.sk-parallel-item:last-child::after {align-self: flex-start;width: 50%;}#sk-container-id-3 div.sk-parallel-item:only-child::after {width: 0;}#sk-container-id-3 div.sk-dashed-wrapped {border: 1px dashed gray;margin: 0 0.4em 0.5em 0.4em;box-sizing: border-box;padding-bottom: 0.4em;background-color: white;}#sk-container-id-3 div.sk-label label {font-family: monospace;font-weight: bold;display: inline-block;line-height: 1.2em;}#sk-container-id-3 div.sk-label-container {text-align: center;}#sk-container-id-3 div.sk-container {/* jupyter's `normalize.less` sets `[hidden] { display: none; }` but bootstrap.min.css set `[hidden] { display: none !important; }` so we also need the `!important` here to be able to override the default hidden behavior on the sphinx rendered scikit-learn.org. See: https://github.com/scikit-learn/scikit-learn/issues/21755 */display: inline-block !important;position: relative;}#sk-container-id-3 div.sk-text-repr-fallback {display: none;}</style><div id=\"sk-container-id-3\" class=\"sk-top-container\"><div class=\"sk-text-repr-fallback\"><pre>GuptaClassifier(apparent_power_list=[(&#x27;fluorescent_0&#x27;, 50.0),\n                                     (&#x27;halogen_0&#x27;, 45.9), (&#x27;led_0&#x27;, 5.8)],\n                n_known_appliances=6, n_peaks_max=3, spectrum_type=2)</pre><b>In a Jupyter environment, please rerun this cell to show the HTML representation or trust the notebook. <br />On GitHub, the HTML representation is unable to render, please try loading this page with nbviewer.org.</b></div><div class=\"sk-container\" hidden><div class=\"sk-item\"><div class=\"sk-estimator sk-toggleable\"><input class=\"sk-toggleable__control sk-hidden--visually\" id=\"sk-estimator-id-3\" type=\"checkbox\" checked><label for=\"sk-estimator-id-3\" class=\"sk-toggleable__label sk-toggleable__label-arrow\">GuptaClassifier</label><div class=\"sk-toggleable__content\"><pre>GuptaClassifier(apparent_power_list=[(&#x27;fluorescent_0&#x27;, 50.0),\n                                     (&#x27;halogen_0&#x27;, 45.9), (&#x27;led_0&#x27;, 5.8)],\n                n_known_appliances=6, n_peaks_max=3, spectrum_type=2)</pre></div></div></div></div></div>"
     },
     "execution_count": 33,
     "metadata": {},
     "output_type": "execute_result"
    }
   ],
   "source": [
    "clf.fit(X=dummy_X, y=dummy_y)"
   ],
   "metadata": {
    "collapsed": false
   }
  },
  {
   "cell_type": "code",
   "execution_count": 34,
   "outputs": [],
   "source": [
    "data_array = read_training_files(data_folder,\n",
    "                                 fft_size=parameter_dict[\"fft_size\"])"
   ],
   "metadata": {
    "collapsed": false
   }
  },
  {
   "cell_type": "code",
   "execution_count": 35,
   "outputs": [
    {
     "name": "stdout",
     "output_type": "stream",
     "text": [
      "Event detected: Calculate feature vector\n"
     ]
    },
    {
     "name": "stderr",
     "output_type": "stream",
     "text": [
      "/home/thomas/.venv/nilm_at_fair/lib/python3.8/site-packages/scipy/optimize/_minpack_py.py:881: OptimizeWarning: Covariance of the parameters could not be estimated\n",
      "  warnings.warn('Covariance of the parameters could not be estimated',\n"
     ]
    },
    {
     "name": "stdout",
     "output_type": "stream",
     "text": [
      "Event detected: Calculate feature vector\n"
     ]
    },
    {
     "name": "stderr",
     "output_type": "stream",
     "text": [
      "/home/thomas/.venv/nilm_at_fair/lib/python3.8/site-packages/scipy/optimize/_minpack_py.py:881: OptimizeWarning: Covariance of the parameters could not be estimated\n",
      "  warnings.warn('Covariance of the parameters could not be estimated',\n"
     ]
    }
   ],
   "source": [
    "state_vector_list = list()\n",
    "for data_point in data_array:\n",
    "    state_vector = clf.predict(data_point)\n",
    "    state_vector_list.append(state_vector)"
   ],
   "metadata": {
    "collapsed": false
   }
  },
  {
   "cell_type": "code",
   "execution_count": 36,
   "outputs": [
    {
     "data": {
      "text/plain": "(196612,)"
     },
     "execution_count": 36,
     "metadata": {},
     "output_type": "execute_result"
    }
   ],
   "source": [
    "data_point.shape"
   ],
   "metadata": {
    "collapsed": false
   }
  },
  {
   "cell_type": "code",
   "execution_count": 37,
   "outputs": [
    {
     "data": {
      "text/plain": "array([50.,  0.,  0.,  0.,  0.,  0.,  0.])"
     },
     "execution_count": 37,
     "metadata": {},
     "output_type": "execute_result"
    }
   ],
   "source": [
    "state_vector"
   ],
   "metadata": {
    "collapsed": false
   }
  },
  {
   "cell_type": "code",
   "execution_count": 28,
   "outputs": [
    {
     "data": {
      "text/plain": "src.pulsed_power_ml.models.gupta_model.gupta_clf.GuptaClassifier"
     },
     "execution_count": 28,
     "metadata": {},
     "output_type": "execute_result"
    }
   ],
   "source": [
    "type(clf)"
   ],
   "metadata": {
    "collapsed": false
   }
  },
  {
   "cell_type": "code",
   "execution_count": 29,
   "outputs": [],
   "source": [
    "from skl2onnx import convert_sklearn\n",
    "from skl2onnx.common.data_types import FloatTensorType"
   ],
   "metadata": {
    "collapsed": false
   }
  },
  {
   "cell_type": "code",
   "execution_count": 30,
   "outputs": [
    {
     "ename": "MissingShapeCalculator",
     "evalue": "Unable to find a shape calculator for type '<class 'src.pulsed_power_ml.models.gupta_model.gupta_clf.GuptaClassifier'>'.\nIt usually means the pipeline being converted contains a\ntransformer or a predictor with no corresponding converter\nimplemented in sklearn-onnx. If the converted is implemented\nin another library, you need to register\nthe converted so that it can be used by sklearn-onnx (function\nupdate_registered_converter). If the model is not yet covered\nby sklearn-onnx, you may raise an issue to\nhttps://github.com/onnx/sklearn-onnx/issues\nto get the converter implemented or even contribute to the\nproject. If the model is a custom model, a new converter must\nbe implemented. Examples can be found in the gallery.\n",
     "output_type": "error",
     "traceback": [
      "\u001B[0;31m---------------------------------------------------------------------------\u001B[0m",
      "\u001B[0;31mMissingShapeCalculator\u001B[0m                    Traceback (most recent call last)",
      "Cell \u001B[0;32mIn [30], line 2\u001B[0m\n\u001B[1;32m      1\u001B[0m initial_type \u001B[38;5;241m=\u001B[39m [(\u001B[38;5;124m'\u001B[39m\u001B[38;5;124mfloat_input\u001B[39m\u001B[38;5;124m'\u001B[39m, FloatTensorType([\u001B[38;5;28;01mNone\u001B[39;00m, \u001B[38;5;241m196612\u001B[39m]))]\n\u001B[0;32m----> 2\u001B[0m onx \u001B[38;5;241m=\u001B[39m \u001B[43mconvert_sklearn\u001B[49m\u001B[43m(\u001B[49m\u001B[43mclf\u001B[49m\u001B[43m,\u001B[49m\u001B[43m \u001B[49m\u001B[43minitial_types\u001B[49m\u001B[38;5;241;43m=\u001B[39;49m\u001B[43minitial_type\u001B[49m\u001B[43m)\u001B[49m\n",
      "File \u001B[0;32m~/.venv/nilm_at_fair/lib/python3.8/site-packages/skl2onnx/convert.py:184\u001B[0m, in \u001B[0;36mconvert_sklearn\u001B[0;34m(model, name, initial_types, doc_string, target_opset, custom_conversion_functions, custom_shape_calculators, custom_parsers, options, intermediate, white_op, black_op, final_types, dtype, naming, verbose)\u001B[0m\n\u001B[1;32m    182\u001B[0m \u001B[38;5;28;01mif\u001B[39;00m verbose \u001B[38;5;241m>\u001B[39m\u001B[38;5;241m=\u001B[39m \u001B[38;5;241m1\u001B[39m:\n\u001B[1;32m    183\u001B[0m     \u001B[38;5;28mprint\u001B[39m(\u001B[38;5;124m\"\u001B[39m\u001B[38;5;124m[convert_sklearn] convert_topology\u001B[39m\u001B[38;5;124m\"\u001B[39m)\n\u001B[0;32m--> 184\u001B[0m onnx_model \u001B[38;5;241m=\u001B[39m \u001B[43mconvert_topology\u001B[49m\u001B[43m(\u001B[49m\n\u001B[1;32m    185\u001B[0m \u001B[43m    \u001B[49m\u001B[43mtopology\u001B[49m\u001B[43m,\u001B[49m\u001B[43m \u001B[49m\u001B[43mname\u001B[49m\u001B[43m,\u001B[49m\u001B[43m \u001B[49m\u001B[43mdoc_string\u001B[49m\u001B[43m,\u001B[49m\u001B[43m \u001B[49m\u001B[43mtarget_opset\u001B[49m\u001B[43m,\u001B[49m\u001B[43m \u001B[49m\u001B[43moptions\u001B[49m\u001B[38;5;241;43m=\u001B[39;49m\u001B[43moptions\u001B[49m\u001B[43m,\u001B[49m\n\u001B[1;32m    186\u001B[0m \u001B[43m    \u001B[49m\u001B[43mremove_identity\u001B[49m\u001B[38;5;241;43m=\u001B[39;49m\u001B[38;5;129;43;01mnot\u001B[39;49;00m\u001B[43m \u001B[49m\u001B[43mintermediate\u001B[49m\u001B[43m,\u001B[49m\u001B[43m \u001B[49m\u001B[43mverbose\u001B[49m\u001B[38;5;241;43m=\u001B[39;49m\u001B[43mverbose\u001B[49m\u001B[43m)\u001B[49m\n\u001B[1;32m    187\u001B[0m \u001B[38;5;28;01mif\u001B[39;00m verbose \u001B[38;5;241m>\u001B[39m\u001B[38;5;241m=\u001B[39m \u001B[38;5;241m1\u001B[39m:\n\u001B[1;32m    188\u001B[0m     \u001B[38;5;28mprint\u001B[39m(\u001B[38;5;124m\"\u001B[39m\u001B[38;5;124m[convert_sklearn] end\u001B[39m\u001B[38;5;124m\"\u001B[39m)\n",
      "File \u001B[0;32m~/.venv/nilm_at_fair/lib/python3.8/site-packages/skl2onnx/common/_topology.py:1421\u001B[0m, in \u001B[0;36mconvert_topology\u001B[0;34m(topology, model_name, doc_string, target_opset, channel_first_inputs, options, remove_identity, verbose)\u001B[0m\n\u001B[1;32m   1412\u001B[0m container \u001B[38;5;241m=\u001B[39m ModelComponentContainer(\n\u001B[1;32m   1413\u001B[0m     target_opset, options\u001B[38;5;241m=\u001B[39moptions,\n\u001B[1;32m   1414\u001B[0m     registered_models\u001B[38;5;241m=\u001B[39mtopology\u001B[38;5;241m.\u001B[39mregistered_models,\n\u001B[1;32m   1415\u001B[0m     white_op\u001B[38;5;241m=\u001B[39mtopology\u001B[38;5;241m.\u001B[39mraw_model\u001B[38;5;241m.\u001B[39m_white_op,\n\u001B[1;32m   1416\u001B[0m     black_op\u001B[38;5;241m=\u001B[39mtopology\u001B[38;5;241m.\u001B[39mraw_model\u001B[38;5;241m.\u001B[39m_black_op,\n\u001B[1;32m   1417\u001B[0m     verbose\u001B[38;5;241m=\u001B[39mverbose)\n\u001B[1;32m   1419\u001B[0m \u001B[38;5;66;03m# Traverse the graph from roots to leaves\u001B[39;00m\n\u001B[1;32m   1420\u001B[0m \u001B[38;5;66;03m# This loop could eventually be parallelized.\u001B[39;00m\n\u001B[0;32m-> 1421\u001B[0m \u001B[43mtopology\u001B[49m\u001B[38;5;241;43m.\u001B[39;49m\u001B[43mconvert_operators\u001B[49m\u001B[43m(\u001B[49m\u001B[43mcontainer\u001B[49m\u001B[38;5;241;43m=\u001B[39;49m\u001B[43mcontainer\u001B[49m\u001B[43m,\u001B[49m\u001B[43m \u001B[49m\u001B[43mverbose\u001B[49m\u001B[38;5;241;43m=\u001B[39;49m\u001B[43mverbose\u001B[49m\u001B[43m)\u001B[49m\n\u001B[1;32m   1422\u001B[0m container\u001B[38;5;241m.\u001B[39mensure_topological_order()\n\u001B[1;32m   1424\u001B[0m \u001B[38;5;28;01mif\u001B[39;00m \u001B[38;5;28mlen\u001B[39m(container\u001B[38;5;241m.\u001B[39minputs) \u001B[38;5;241m==\u001B[39m \u001B[38;5;241m0\u001B[39m:\n",
      "File \u001B[0;32m~/.venv/nilm_at_fair/lib/python3.8/site-packages/skl2onnx/common/_topology.py:1255\u001B[0m, in \u001B[0;36mTopology.convert_operators\u001B[0;34m(self, container, verbose)\u001B[0m\n\u001B[1;32m   1252\u001B[0m \u001B[38;5;28;01mfor\u001B[39;00m variable \u001B[38;5;129;01min\u001B[39;00m operator\u001B[38;5;241m.\u001B[39moutputs:\n\u001B[1;32m   1253\u001B[0m     _check_variable_out_(variable, operator)\n\u001B[0;32m-> 1255\u001B[0m \u001B[38;5;28;43mself\u001B[39;49m\u001B[38;5;241;43m.\u001B[39;49m\u001B[43mcall_shape_calculator\u001B[49m\u001B[43m(\u001B[49m\u001B[43moperator\u001B[49m\u001B[43m)\u001B[49m\n\u001B[1;32m   1256\u001B[0m \u001B[38;5;28mself\u001B[39m\u001B[38;5;241m.\u001B[39mcall_converter(operator, container, verbose\u001B[38;5;241m=\u001B[39mverbose)\n\u001B[1;32m   1258\u001B[0m \u001B[38;5;66;03m# If an operator contains a sequence of operators,\u001B[39;00m\n\u001B[1;32m   1259\u001B[0m \u001B[38;5;66;03m# output variables are not necessarily known at this stage.\u001B[39;00m\n",
      "File \u001B[0;32m~/.venv/nilm_at_fair/lib/python3.8/site-packages/skl2onnx/common/_topology.py:1091\u001B[0m, in \u001B[0;36mTopology.call_shape_calculator\u001B[0;34m(self, operator)\u001B[0m\n\u001B[1;32m   1089\u001B[0m \u001B[38;5;28;01melse\u001B[39;00m:\n\u001B[1;32m   1090\u001B[0m     logger\u001B[38;5;241m.\u001B[39mdebug(\u001B[38;5;124m'\u001B[39m\u001B[38;5;124m[Shape2] call infer_types for \u001B[39m\u001B[38;5;132;01m%r\u001B[39;00m\u001B[38;5;124m'\u001B[39m, operator)\n\u001B[0;32m-> 1091\u001B[0m     \u001B[43moperator\u001B[49m\u001B[38;5;241;43m.\u001B[39;49m\u001B[43minfer_types\u001B[49m\u001B[43m(\u001B[49m\u001B[43m)\u001B[49m\n",
      "File \u001B[0;32m~/.venv/nilm_at_fair/lib/python3.8/site-packages/skl2onnx/common/_topology.py:589\u001B[0m, in \u001B[0;36mOperator.infer_types\u001B[0;34m(self)\u001B[0m\n\u001B[1;32m    586\u001B[0m \u001B[38;5;28;01mdef\u001B[39;00m \u001B[38;5;21minfer_types\u001B[39m(\u001B[38;5;28mself\u001B[39m):\n\u001B[1;32m    587\u001B[0m     \u001B[38;5;66;03m# Invoke a core inference function\u001B[39;00m\n\u001B[1;32m    588\u001B[0m     \u001B[38;5;28;01mif\u001B[39;00m \u001B[38;5;28mself\u001B[39m\u001B[38;5;241m.\u001B[39mtype \u001B[38;5;129;01mis\u001B[39;00m \u001B[38;5;28;01mNone\u001B[39;00m:\n\u001B[0;32m--> 589\u001B[0m         \u001B[38;5;28;01mraise\u001B[39;00m MissingShapeCalculator(\n\u001B[1;32m    590\u001B[0m             \u001B[38;5;124m\"\u001B[39m\u001B[38;5;124mUnable to find a shape calculator for type \u001B[39m\u001B[38;5;124m'\u001B[39m\u001B[38;5;132;01m{}\u001B[39;00m\u001B[38;5;124m'\u001B[39m\u001B[38;5;124m.\u001B[39m\u001B[38;5;124m\"\u001B[39m\u001B[38;5;241m.\u001B[39mformat(\n\u001B[1;32m    591\u001B[0m                 \u001B[38;5;28mtype\u001B[39m(\u001B[38;5;28mself\u001B[39m\u001B[38;5;241m.\u001B[39mraw_operator)))\n\u001B[1;32m    592\u001B[0m     \u001B[38;5;28;01mtry\u001B[39;00m:\n\u001B[1;32m    593\u001B[0m         shape_calc \u001B[38;5;241m=\u001B[39m _registration\u001B[38;5;241m.\u001B[39mget_shape_calculator(\u001B[38;5;28mself\u001B[39m\u001B[38;5;241m.\u001B[39mtype)\n",
      "\u001B[0;31mMissingShapeCalculator\u001B[0m: Unable to find a shape calculator for type '<class 'src.pulsed_power_ml.models.gupta_model.gupta_clf.GuptaClassifier'>'.\nIt usually means the pipeline being converted contains a\ntransformer or a predictor with no corresponding converter\nimplemented in sklearn-onnx. If the converted is implemented\nin another library, you need to register\nthe converted so that it can be used by sklearn-onnx (function\nupdate_registered_converter). If the model is not yet covered\nby sklearn-onnx, you may raise an issue to\nhttps://github.com/onnx/sklearn-onnx/issues\nto get the converter implemented or even contribute to the\nproject. If the model is a custom model, a new converter must\nbe implemented. Examples can be found in the gallery.\n"
     ]
    }
   ],
   "source": [
    "initial_type = [('float_input', FloatTensorType([None, 196612]))]\n",
    "onx = convert_sklearn(clf, initial_types=initial_type)"
   ],
   "metadata": {
    "collapsed": false
   }
  },
  {
   "cell_type": "code",
   "execution_count": null,
   "outputs": [],
   "source": [],
   "metadata": {
    "collapsed": false
   }
  }
 ],
 "metadata": {
  "kernelspec": {
   "display_name": "Python 3",
   "language": "python",
   "name": "python3"
  },
  "language_info": {
   "codemirror_mode": {
    "name": "ipython",
    "version": 2
   },
   "file_extension": ".py",
   "mimetype": "text/x-python",
   "name": "python",
   "nbconvert_exporter": "python",
   "pygments_lexer": "ipython2",
   "version": "2.7.6"
  }
 },
 "nbformat": 4,
 "nbformat_minor": 0
}
