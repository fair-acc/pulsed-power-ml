{
 "cells": [
  {
   "cell_type": "code",
   "execution_count": 1,
   "metadata": {
    "collapsed": true
   },
   "outputs": [],
   "source": [
    "import sys\n",
    "sys.path.append(\"../../../repository\")\n",
    "import numpy as np"
   ]
  },
  {
   "cell_type": "code",
   "execution_count": 2,
   "outputs": [],
   "source": [
    "from src.pulsed_power_ml.models.gupta_model.gupta_clf import GuptaClassifier\n",
    "from src.pulsed_power_ml.models.gupta_model.gupta_utils import read_power_data_base\n",
    "from src.pulsed_power_ml.models.gupta_model.gupta_utils import read_parameters\n",
    "\n",
    "from src.pulsed_power_ml.model_framework.data_io import read_training_files"
   ],
   "metadata": {
    "collapsed": false
   }
  },
  {
   "cell_type": "code",
   "execution_count": 3,
   "outputs": [],
   "source": [
    "power_db_file = \"/home/thomas/projects/nilm_at_fair/repository/src/pulsed_power_ml/models/gupta_model/apparent_power_data_base.yml\"\n",
    "parameter_file = \"/home/thomas/projects/nilm_at_fair/repository/src/pulsed_power_ml/models/gupta_model/parameters.yml\"\n",
    "data_folder = \"/home/thomas/projects/nilm_at_fair/training_data/2022-10-25_training_data/tube/\""
   ],
   "metadata": {
    "collapsed": false
   }
  },
  {
   "cell_type": "code",
   "execution_count": 4,
   "outputs": [],
   "source": [
    "apparent_power_list = read_power_data_base(power_db_file)\n",
    "parameter_dict = read_parameters(parameter_file)"
   ],
   "metadata": {
    "collapsed": false
   }
  },
  {
   "cell_type": "code",
   "execution_count": 5,
   "outputs": [],
   "source": [
    "clf = GuptaClassifier(\n",
    "    background_n=parameter_dict[\"background_n\"],\n",
    "    fft_size_real=parameter_dict[\"fft_size\"] / 2,\n",
    "    sample_rate=parameter_dict[\"sample_rate\"],\n",
    "    n_known_appliances=len(parameter_dict[\"appliances\"]) - 1,\n",
    "    spectrum_type=2,\n",
    "    n_peaks_max=3,\n",
    "    apparent_power_list=apparent_power_list,\n",
    ")"
   ],
   "metadata": {
    "collapsed": false
   }
  },
  {
   "cell_type": "code",
   "execution_count": 6,
   "outputs": [],
   "source": [
    "dummy_X = np.random.rand(9, 9)\n",
    "dummy_y = np.array([[1, 0, 0, 0, 0, 0, 0], [0, 1, 0, 0, 0, 0, 0], [0, 0, 1, 0, 0, 0, 0]] * 3)"
   ],
   "metadata": {
    "collapsed": false
   }
  },
  {
   "cell_type": "code",
   "execution_count": 7,
   "outputs": [
    {
     "data": {
      "text/plain": "GuptaClassifier(apparent_power_list=[('fluorescent_0', 50.0),\n                                     ('halogen_0', 45.9), ('led_0', 5.8)],\n                n_known_appliances=3, n_peaks_max=3, spectrum_type=2)",
      "text/html": "<style>#sk-container-id-1 {color: black;background-color: white;}#sk-container-id-1 pre{padding: 0;}#sk-container-id-1 div.sk-toggleable {background-color: white;}#sk-container-id-1 label.sk-toggleable__label {cursor: pointer;display: block;width: 100%;margin-bottom: 0;padding: 0.3em;box-sizing: border-box;text-align: center;}#sk-container-id-1 label.sk-toggleable__label-arrow:before {content: \"▸\";float: left;margin-right: 0.25em;color: #696969;}#sk-container-id-1 label.sk-toggleable__label-arrow:hover:before {color: black;}#sk-container-id-1 div.sk-estimator:hover label.sk-toggleable__label-arrow:before {color: black;}#sk-container-id-1 div.sk-toggleable__content {max-height: 0;max-width: 0;overflow: hidden;text-align: left;background-color: #f0f8ff;}#sk-container-id-1 div.sk-toggleable__content pre {margin: 0.2em;color: black;border-radius: 0.25em;background-color: #f0f8ff;}#sk-container-id-1 input.sk-toggleable__control:checked~div.sk-toggleable__content {max-height: 200px;max-width: 100%;overflow: auto;}#sk-container-id-1 input.sk-toggleable__control:checked~label.sk-toggleable__label-arrow:before {content: \"▾\";}#sk-container-id-1 div.sk-estimator input.sk-toggleable__control:checked~label.sk-toggleable__label {background-color: #d4ebff;}#sk-container-id-1 div.sk-label input.sk-toggleable__control:checked~label.sk-toggleable__label {background-color: #d4ebff;}#sk-container-id-1 input.sk-hidden--visually {border: 0;clip: rect(1px 1px 1px 1px);clip: rect(1px, 1px, 1px, 1px);height: 1px;margin: -1px;overflow: hidden;padding: 0;position: absolute;width: 1px;}#sk-container-id-1 div.sk-estimator {font-family: monospace;background-color: #f0f8ff;border: 1px dotted black;border-radius: 0.25em;box-sizing: border-box;margin-bottom: 0.5em;}#sk-container-id-1 div.sk-estimator:hover {background-color: #d4ebff;}#sk-container-id-1 div.sk-parallel-item::after {content: \"\";width: 100%;border-bottom: 1px solid gray;flex-grow: 1;}#sk-container-id-1 div.sk-label:hover label.sk-toggleable__label {background-color: #d4ebff;}#sk-container-id-1 div.sk-serial::before {content: \"\";position: absolute;border-left: 1px solid gray;box-sizing: border-box;top: 0;bottom: 0;left: 50%;z-index: 0;}#sk-container-id-1 div.sk-serial {display: flex;flex-direction: column;align-items: center;background-color: white;padding-right: 0.2em;padding-left: 0.2em;position: relative;}#sk-container-id-1 div.sk-item {position: relative;z-index: 1;}#sk-container-id-1 div.sk-parallel {display: flex;align-items: stretch;justify-content: center;background-color: white;position: relative;}#sk-container-id-1 div.sk-item::before, #sk-container-id-1 div.sk-parallel-item::before {content: \"\";position: absolute;border-left: 1px solid gray;box-sizing: border-box;top: 0;bottom: 0;left: 50%;z-index: -1;}#sk-container-id-1 div.sk-parallel-item {display: flex;flex-direction: column;z-index: 1;position: relative;background-color: white;}#sk-container-id-1 div.sk-parallel-item:first-child::after {align-self: flex-end;width: 50%;}#sk-container-id-1 div.sk-parallel-item:last-child::after {align-self: flex-start;width: 50%;}#sk-container-id-1 div.sk-parallel-item:only-child::after {width: 0;}#sk-container-id-1 div.sk-dashed-wrapped {border: 1px dashed gray;margin: 0 0.4em 0.5em 0.4em;box-sizing: border-box;padding-bottom: 0.4em;background-color: white;}#sk-container-id-1 div.sk-label label {font-family: monospace;font-weight: bold;display: inline-block;line-height: 1.2em;}#sk-container-id-1 div.sk-label-container {text-align: center;}#sk-container-id-1 div.sk-container {/* jupyter's `normalize.less` sets `[hidden] { display: none; }` but bootstrap.min.css set `[hidden] { display: none !important; }` so we also need the `!important` here to be able to override the default hidden behavior on the sphinx rendered scikit-learn.org. See: https://github.com/scikit-learn/scikit-learn/issues/21755 */display: inline-block !important;position: relative;}#sk-container-id-1 div.sk-text-repr-fallback {display: none;}</style><div id=\"sk-container-id-1\" class=\"sk-top-container\"><div class=\"sk-text-repr-fallback\"><pre>GuptaClassifier(apparent_power_list=[(&#x27;fluorescent_0&#x27;, 50.0),\n                                     (&#x27;halogen_0&#x27;, 45.9), (&#x27;led_0&#x27;, 5.8)],\n                n_known_appliances=3, n_peaks_max=3, spectrum_type=2)</pre><b>In a Jupyter environment, please rerun this cell to show the HTML representation or trust the notebook. <br />On GitHub, the HTML representation is unable to render, please try loading this page with nbviewer.org.</b></div><div class=\"sk-container\" hidden><div class=\"sk-item\"><div class=\"sk-estimator sk-toggleable\"><input class=\"sk-toggleable__control sk-hidden--visually\" id=\"sk-estimator-id-1\" type=\"checkbox\" checked><label for=\"sk-estimator-id-1\" class=\"sk-toggleable__label sk-toggleable__label-arrow\">GuptaClassifier</label><div class=\"sk-toggleable__content\"><pre>GuptaClassifier(apparent_power_list=[(&#x27;fluorescent_0&#x27;, 50.0),\n                                     (&#x27;halogen_0&#x27;, 45.9), (&#x27;led_0&#x27;, 5.8)],\n                n_known_appliances=3, n_peaks_max=3, spectrum_type=2)</pre></div></div></div></div></div>"
     },
     "execution_count": 7,
     "metadata": {},
     "output_type": "execute_result"
    }
   ],
   "source": [
    "clf.fit(X=dummy_X, y=dummy_y)"
   ],
   "metadata": {
    "collapsed": false
   }
  },
  {
   "cell_type": "code",
   "execution_count": 8,
   "outputs": [],
   "source": [
    "data_array = read_training_files(data_folder,\n",
    "                                 fft_size=parameter_dict[\"fft_size\"])"
   ],
   "metadata": {
    "collapsed": false
   }
  },
  {
   "cell_type": "code",
   "execution_count": 9,
   "outputs": [
    {
     "name": "stdout",
     "output_type": "stream",
     "text": [
      "Event detected: Calculate feature vector\n"
     ]
    },
    {
     "name": "stderr",
     "output_type": "stream",
     "text": [
      "/home/thomas/.venv/nilm_at_fair/lib/python3.8/site-packages/scipy/optimize/_minpack_py.py:881: OptimizeWarning: Covariance of the parameters could not be estimated\n",
      "  warnings.warn('Covariance of the parameters could not be estimated',\n"
     ]
    },
    {
     "name": "stdout",
     "output_type": "stream",
     "text": [
      "Event detected: Calculate feature vector\n"
     ]
    },
    {
     "name": "stderr",
     "output_type": "stream",
     "text": [
      "/home/thomas/.venv/nilm_at_fair/lib/python3.8/site-packages/scipy/optimize/_minpack_py.py:881: OptimizeWarning: Covariance of the parameters could not be estimated\n",
      "  warnings.warn('Covariance of the parameters could not be estimated',\n"
     ]
    }
   ],
   "source": [
    "state_vector_list = list()\n",
    "for data_point in data_array:\n",
    "    state_vector = clf.predict(data_point)\n",
    "    state_vector_list.append(state_vector)"
   ],
   "metadata": {
    "collapsed": false
   }
  },
  {
   "cell_type": "code",
   "execution_count": 10,
   "outputs": [
    {
     "data": {
      "text/plain": "25"
     },
     "execution_count": 10,
     "metadata": {},
     "output_type": "execute_result"
    }
   ],
   "source": [
    "len(clf.background_vector)"
   ],
   "metadata": {
    "collapsed": false
   }
  },
  {
   "cell_type": "code",
   "execution_count": 11,
   "outputs": [
    {
     "data": {
      "text/plain": "[array([0., 0., 0., 0.]),\n array([0., 0., 0., 0.]),\n array([0., 0., 0., 0.]),\n array([0., 0., 0., 0.]),\n array([0., 0., 0., 0.]),\n array([0., 0., 0., 0.]),\n array([0., 0., 0., 0.]),\n array([0., 0., 0., 0.]),\n array([0., 0., 0., 0.]),\n array([0., 0., 0., 0.]),\n array([0., 0., 0., 0.]),\n array([0., 0., 0., 0.]),\n array([0., 0., 0., 0.]),\n array([0., 0., 0., 0.]),\n array([0., 0., 0., 0.]),\n array([0., 0., 0., 0.]),\n array([0., 0., 0., 0.]),\n array([0., 0., 0., 0.]),\n array([0., 0., 0., 0.]),\n array([0., 0., 0., 0.]),\n array([0., 0., 0., 0.]),\n array([0., 0., 0., 0.]),\n array([0., 0., 0., 0.]),\n array([0., 0., 0., 0.]),\n array([0., 0., 0., 0.]),\n array([0., 0., 0., 0.]),\n array([0., 0., 0., 0.]),\n array([0., 0., 0., 0.]),\n array([0., 0., 0., 0.]),\n array([0., 0., 0., 0.]),\n array([0., 0., 0., 0.]),\n array([0., 0., 0., 0.]),\n array([0., 0., 0., 0.]),\n array([0., 0., 0., 0.]),\n array([0., 0., 0., 0.]),\n array([0., 0., 0., 0.]),\n array([0., 0., 0., 0.]),\n array([0., 0., 0., 0.]),\n array([0., 0., 0., 0.]),\n array([0., 0., 0., 0.]),\n array([0., 0., 0., 0.]),\n array([0., 0., 0., 0.]),\n array([0., 0., 0., 0.]),\n array([0., 0., 0., 0.]),\n array([0., 0., 0., 0.]),\n array([0., 0., 0., 0.]),\n array([0., 0., 0., 0.]),\n array([0., 0., 0., 0.]),\n array([0., 0., 0., 0.]),\n array([0., 0., 0., 0.]),\n array([0., 0., 0., 0.]),\n array([0., 0., 0., 0.]),\n array([0., 0., 0., 0.]),\n array([0., 0., 0., 0.]),\n array([0., 0., 0., 0.]),\n array([0., 0., 0., 0.]),\n array([0., 0., 0., 0.]),\n array([0., 0., 0., 0.]),\n array([0., 0., 0., 0.]),\n array([0., 0., 0., 0.]),\n array([0., 0., 0., 0.]),\n array([0., 0., 0., 0.]),\n array([0., 0., 0., 0.]),\n array([0., 0., 0., 0.]),\n array([0., 0., 0., 0.]),\n array([0., 0., 0., 0.]),\n array([0., 0., 0., 0.]),\n array([0., 0., 0., 0.]),\n array([0., 0., 0., 0.]),\n array([0., 0., 0., 0.]),\n array([0., 0., 0., 0.]),\n array([0., 0., 0., 0.]),\n array([0., 0., 0., 0.]),\n array([0., 0., 0., 0.]),\n array([0., 0., 0., 0.]),\n array([0., 0., 0., 0.]),\n array([0., 0., 0., 0.]),\n array([0., 0., 0., 0.]),\n array([0., 0., 0., 0.]),\n array([0., 0., 0., 0.]),\n array([0., 0., 0., 0.]),\n array([0., 0., 0., 0.]),\n array([0., 0., 0., 0.]),\n array([0., 0., 0., 0.]),\n array([0., 0., 0., 0.]),\n array([0., 0., 0., 0.]),\n array([0., 0., 0., 0.]),\n array([0., 0., 0., 0.]),\n array([0., 0., 0., 0.]),\n array([0., 0., 0., 0.]),\n array([0., 0., 0., 0.]),\n array([0., 0., 0., 0.]),\n array([0., 0., 0., 0.]),\n array([0., 0., 0., 0.]),\n array([0., 0., 0., 0.]),\n array([0., 0., 0., 0.]),\n array([0., 0., 0., 0.]),\n array([0., 0., 0., 0.]),\n array([0., 0., 0., 0.]),\n array([0., 0., 0., 0.]),\n array([0., 0., 0., 0.]),\n array([0., 0., 0., 0.]),\n array([0., 0., 0., 0.]),\n array([0., 0., 0., 0.]),\n array([0., 0., 0., 0.]),\n array([0., 0., 0., 0.]),\n array([0., 0., 0., 0.]),\n array([0., 0., 0., 0.]),\n array([0., 0., 0., 0.]),\n array([0., 0., 0., 0.]),\n array([0., 0., 0., 0.]),\n array([0., 0., 0., 0.]),\n array([0., 0., 0., 0.]),\n array([0., 0., 0., 0.]),\n array([0., 0., 0., 0.]),\n array([0., 0., 0., 0.]),\n array([0., 0., 0., 0.]),\n array([0., 0., 0., 0.]),\n array([0., 0., 0., 0.]),\n array([0., 0., 0., 0.]),\n array([0., 0., 0., 0.]),\n array([0., 0., 0., 0.]),\n array([0., 0., 0., 0.]),\n array([0., 0., 0., 0.]),\n array([0., 0., 0., 0.]),\n array([0., 0., 0., 0.]),\n array([0., 0., 0., 0.]),\n array([0., 0., 0., 0.]),\n array([0., 0., 0., 0.]),\n array([0., 0., 0., 0.]),\n array([0., 0., 0., 0.]),\n array([0., 0., 0., 0.]),\n array([0., 0., 0., 0.]),\n array([0., 0., 0., 0.]),\n array([0., 0., 0., 0.]),\n array([0., 0., 0., 0.]),\n array([0., 0., 0., 0.]),\n array([0., 0., 0., 0.]),\n array([0., 0., 0., 0.]),\n array([0., 0., 0., 0.]),\n array([0., 0., 0., 0.]),\n array([0., 0., 0., 0.]),\n array([0., 0., 0., 0.]),\n array([0., 0., 0., 0.]),\n array([0., 0., 0., 0.]),\n array([0., 0., 0., 0.]),\n array([0., 0., 0., 0.]),\n array([0., 0., 0., 0.]),\n array([0., 0., 0., 0.]),\n array([0., 0., 0., 0.]),\n array([0., 0., 0., 0.]),\n array([0., 0., 0., 0.]),\n array([0., 0., 0., 0.]),\n array([0., 0., 0., 0.]),\n array([0., 0., 0., 0.]),\n array([0., 0., 0., 0.]),\n array([0., 0., 0., 0.]),\n array([0., 0., 0., 0.]),\n array([0., 0., 0., 0.]),\n array([0., 0., 0., 0.]),\n array([0., 0., 0., 0.]),\n array([0., 0., 0., 0.]),\n array([0., 0., 0., 0.]),\n array([0., 0., 0., 0.]),\n array([50.,  0.,  0.,  0.]),\n array([50.,  0.,  0.,  0.]),\n array([50.,  0.,  0.,  0.]),\n array([50.,  0.,  0.,  0.]),\n array([50.,  0.,  0.,  0.]),\n array([50.,  0.,  0.,  0.]),\n array([50.,  0.,  0.,  0.]),\n array([50.,  0.,  0.,  0.]),\n array([50.,  0.,  0.,  0.]),\n array([50.,  0.,  0.,  0.]),\n array([50.,  0.,  0.,  0.]),\n array([50.,  0.,  0.,  0.]),\n array([50.,  0.,  0.,  0.]),\n array([50.,  0.,  0.,  0.]),\n array([50.,  0.,  0.,  0.]),\n array([50.,  0.,  0.,  0.]),\n array([50.,  0.,  0.,  0.]),\n array([50.,  0.,  0.,  0.]),\n array([50.,  0.,  0.,  0.]),\n array([50.,  0.,  0.,  0.]),\n array([50.,  0.,  0.,  0.]),\n array([50.,  0.,  0.,  0.]),\n array([50.,  0.,  0.,  0.]),\n array([50.,  0.,  0.,  0.]),\n array([50.,  0.,  0.,  0.]),\n array([50.,  0.,  0.,  0.]),\n array([50.,  0.,  0.,  0.]),\n array([50.,  0.,  0.,  0.]),\n array([50.,  0.,  0.,  0.]),\n array([50.,  0.,  0.,  0.]),\n array([50.,  0.,  0.,  0.]),\n array([50.,  0.,  0.,  0.]),\n array([50.,  0.,  0.,  0.]),\n array([50.,  0.,  0.,  0.]),\n array([50.,  0.,  0.,  0.]),\n array([50.,  0.,  0.,  0.]),\n array([50.,  0.,  0.,  0.]),\n array([50.,  0.,  0.,  0.]),\n array([50.,  0.,  0.,  0.]),\n array([50.,  0.,  0.,  0.]),\n array([50.,  0.,  0.,  0.]),\n array([50.,  0.,  0.,  0.]),\n array([50.,  0.,  0.,  0.]),\n array([50.,  0.,  0.,  0.]),\n array([50.,  0.,  0.,  0.]),\n array([50.,  0.,  0.,  0.]),\n array([50.,  0.,  0.,  0.]),\n array([50.,  0.,  0.,  0.]),\n array([50.,  0.,  0.,  0.]),\n array([50.,  0.,  0.,  0.]),\n array([50.,  0.,  0.,  0.]),\n array([50.,  0.,  0.,  0.]),\n array([50.,  0.,  0.,  0.]),\n array([50.,  0.,  0.,  0.]),\n array([50.,  0.,  0.,  0.]),\n array([50.,  0.,  0.,  0.]),\n array([50.,  0.,  0.,  0.]),\n array([50.,  0.,  0.,  0.]),\n array([50.,  0.,  0.,  0.]),\n array([50.,  0.,  0.,  0.]),\n array([50.,  0.,  0.,  0.]),\n array([50.,  0.,  0.,  0.]),\n array([50.,  0.,  0.,  0.]),\n array([50.,  0.,  0.,  0.]),\n array([50.,  0.,  0.,  0.]),\n array([50.,  0.,  0.,  0.]),\n array([50.,  0.,  0.,  0.]),\n array([50.,  0.,  0.,  0.]),\n array([50.,  0.,  0.,  0.]),\n array([50.,  0.,  0.,  0.]),\n array([50.,  0.,  0.,  0.]),\n array([50.,  0.,  0.,  0.]),\n array([50.,  0.,  0.,  0.]),\n array([50.,  0.,  0.,  0.]),\n array([50.,  0.,  0.,  0.]),\n array([50.,  0.,  0.,  0.]),\n array([50.,  0.,  0.,  0.]),\n array([50.,  0.,  0.,  0.]),\n array([50.,  0.,  0.,  0.]),\n array([50.,  0.,  0.,  0.]),\n array([50.,  0.,  0.,  0.]),\n array([50.,  0.,  0.,  0.]),\n array([50.,  0.,  0.,  0.]),\n array([50.,  0.,  0.,  0.]),\n array([50.,  0.,  0.,  0.]),\n array([50.,  0.,  0.,  0.]),\n array([50.,  0.,  0.,  0.]),\n array([50.,  0.,  0.,  0.]),\n array([50.,  0.,  0.,  0.]),\n array([50.,  0.,  0.,  0.]),\n array([50.,  0.,  0.,  0.]),\n array([50.,  0.,  0.,  0.]),\n array([50.,  0.,  0.,  0.]),\n array([50.,  0.,  0.,  0.]),\n array([50.,  0.,  0.,  0.]),\n array([50.,  0.,  0.,  0.]),\n array([50.,  0.,  0.,  0.]),\n array([50.,  0.,  0.,  0.]),\n array([50.,  0.,  0.,  0.]),\n array([50.,  0.,  0.,  0.]),\n array([50.,  0.,  0.,  0.]),\n array([50.,  0.,  0.,  0.]),\n array([50.,  0.,  0.,  0.]),\n array([50.,  0.,  0.,  0.]),\n array([50.,  0.,  0.,  0.]),\n array([50.,  0.,  0.,  0.]),\n array([50.,  0.,  0.,  0.]),\n array([50.,  0.,  0.,  0.]),\n array([50.,  0.,  0.,  0.]),\n array([50.,  0.,  0.,  0.]),\n array([50.,  0.,  0.,  0.]),\n array([50.,  0.,  0.,  0.]),\n array([50.,  0.,  0.,  0.]),\n array([50.,  0.,  0.,  0.]),\n array([50.,  0.,  0.,  0.]),\n array([50.,  0.,  0.,  0.]),\n array([50.,  0.,  0.,  0.]),\n array([50.,  0.,  0.,  0.]),\n array([50.,  0.,  0.,  0.]),\n array([50.,  0.,  0.,  0.]),\n array([50.,  0.,  0.,  0.]),\n array([50.,  0.,  0.,  0.]),\n array([50.,  0.,  0.,  0.]),\n array([50.,  0.,  0.,  0.]),\n array([50.,  0.,  0.,  0.]),\n array([50.,  0.,  0.,  0.]),\n array([50.,  0.,  0.,  0.]),\n array([50.,  0.,  0.,  0.]),\n array([50.,  0.,  0.,  0.]),\n array([50.,  0.,  0.,  0.]),\n array([50.,  0.,  0.,  0.]),\n array([50.,  0.,  0.,  0.]),\n array([50.,  0.,  0.,  0.]),\n array([50.,  0.,  0.,  0.]),\n array([50.,  0.,  0.,  0.]),\n array([50.,  0.,  0.,  0.]),\n array([50.,  0.,  0.,  0.]),\n array([50.,  0.,  0.,  0.]),\n array([50.,  0.,  0.,  0.]),\n array([50.,  0.,  0.,  0.]),\n array([50.,  0.,  0.,  0.]),\n array([50.,  0.,  0.,  0.]),\n array([50.,  0.,  0.,  0.]),\n array([50.,  0.,  0.,  0.]),\n array([50.,  0.,  0.,  0.]),\n array([50.,  0.,  0.,  0.]),\n array([50.,  0.,  0.,  0.]),\n array([50.,  0.,  0.,  0.]),\n array([50.,  0.,  0.,  0.]),\n array([50.,  0.,  0.,  0.]),\n array([50.,  0.,  0.,  0.]),\n array([50.,  0.,  0.,  0.]),\n array([50.,  0.,  0.,  0.]),\n array([50.,  0.,  0.,  0.]),\n array([50.,  0.,  0.,  0.]),\n array([50.,  0.,  0.,  0.]),\n array([50.,  0.,  0.,  0.]),\n array([50.,  0.,  0.,  0.]),\n array([50.,  0.,  0.,  0.]),\n array([50.,  0.,  0.,  0.]),\n array([50.,  0.,  0.,  0.]),\n array([50.,  0.,  0.,  0.]),\n array([50.,  0.,  0.,  0.]),\n array([50.,  0.,  0.,  0.]),\n array([50.,  0.,  0.,  0.]),\n array([50.,  0.,  0.,  0.]),\n array([50.,  0.,  0.,  0.]),\n array([50.,  0.,  0.,  0.]),\n array([50.,  0.,  0.,  0.]),\n array([50.,  0.,  0.,  0.]),\n array([50.,  0.,  0.,  0.]),\n array([50.,  0.,  0.,  0.]),\n array([50.,  0.,  0.,  0.]),\n array([50.,  0.,  0.,  0.]),\n array([50.,  0.,  0.,  0.]),\n array([50.,  0.,  0.,  0.]),\n array([50.,  0.,  0.,  0.]),\n array([50.,  0.,  0.,  0.]),\n array([50.,  0.,  0.,  0.]),\n array([50.,  0.,  0.,  0.]),\n array([50.,  0.,  0.,  0.]),\n array([50.,  0.,  0.,  0.]),\n array([50.,  0.,  0.,  0.]),\n array([50.,  0.,  0.,  0.]),\n array([50.,  0.,  0.,  0.]),\n array([50.,  0.,  0.,  0.]),\n array([50.,  0.,  0.,  0.]),\n array([50.,  0.,  0.,  0.]),\n array([50.,  0.,  0.,  0.]),\n array([50.,  0.,  0.,  0.]),\n array([50.,  0.,  0.,  0.]),\n array([50.,  0.,  0.,  0.]),\n array([50.,  0.,  0.,  0.]),\n array([50.,  0.,  0.,  0.]),\n array([50.,  0.,  0.,  0.]),\n array([50.,  0.,  0.,  0.]),\n array([50.,  0.,  0.,  0.]),\n array([50.,  0.,  0.,  0.]),\n array([50.,  0.,  0.,  0.]),\n array([50.,  0.,  0.,  0.]),\n array([50.,  0.,  0.,  0.]),\n array([50.,  0.,  0.,  0.]),\n array([50.,  0.,  0.,  0.]),\n array([50.,  0.,  0.,  0.]),\n array([50.,  0.,  0.,  0.]),\n array([50.,  0.,  0.,  0.]),\n array([50.,  0.,  0.,  0.]),\n array([50.,  0.,  0.,  0.]),\n array([50.,  0.,  0.,  0.]),\n array([50.,  0.,  0.,  0.]),\n array([50.,  0.,  0.,  0.]),\n array([50.,  0.,  0.,  0.]),\n array([50.,  0.,  0.,  0.]),\n array([50.,  0.,  0.,  0.]),\n array([50.,  0.,  0.,  0.]),\n array([50.,  0.,  0.,  0.]),\n array([50.,  0.,  0.,  0.]),\n array([50.,  0.,  0.,  0.]),\n array([50.,  0.,  0.,  0.]),\n array([50.,  0.,  0.,  0.]),\n array([50.,  0.,  0.,  0.]),\n array([50.,  0.,  0.,  0.]),\n array([50.,  0.,  0.,  0.]),\n array([50.,  0.,  0.,  0.]),\n array([50.,  0.,  0.,  0.]),\n array([50.,  0.,  0.,  0.]),\n array([50.,  0.,  0.,  0.]),\n array([50.,  0.,  0.,  0.]),\n array([50.,  0.,  0.,  0.]),\n array([50.,  0.,  0.,  0.]),\n array([50.,  0.,  0.,  0.]),\n array([50.,  0.,  0.,  0.]),\n array([50.,  0.,  0.,  0.]),\n array([50.,  0.,  0.,  0.]),\n array([50.,  0.,  0.,  0.]),\n array([50.,  0.,  0.,  0.]),\n array([50.,  0.,  0.,  0.]),\n array([50.,  0.,  0.,  0.]),\n array([50.,  0.,  0.,  0.]),\n array([50.,  0.,  0.,  0.]),\n array([50.,  0.,  0.,  0.]),\n array([50.,  0.,  0.,  0.]),\n array([50.,  0.,  0.,  0.]),\n array([50.,  0.,  0.,  0.]),\n array([50.,  0.,  0.,  0.]),\n array([50.,  0.,  0.,  0.]),\n array([50.,  0.,  0.,  0.]),\n array([50.,  0.,  0.,  0.]),\n array([50.,  0.,  0.,  0.]),\n array([50.,  0.,  0.,  0.]),\n array([50.,  0.,  0.,  0.]),\n array([50.,  0.,  0.,  0.]),\n array([50.,  0.,  0.,  0.]),\n array([50.,  0.,  0.,  0.]),\n array([50.,  0.,  0.,  0.]),\n array([50.,  0.,  0.,  0.]),\n array([50.,  0.,  0.,  0.]),\n array([50.,  0.,  0.,  0.]),\n array([50.,  0.,  0.,  0.]),\n array([50.,  0.,  0.,  0.]),\n array([50.,  0.,  0.,  0.]),\n array([50.,  0.,  0.,  0.]),\n array([50.,  0.,  0.,  0.]),\n array([50.,  0.,  0.,  0.]),\n array([50.,  0.,  0.,  0.]),\n array([50.,  0.,  0.,  0.]),\n array([50.,  0.,  0.,  0.]),\n array([50.,  0.,  0.,  0.]),\n array([50.,  0.,  0.,  0.]),\n array([50.,  0.,  0.,  0.]),\n array([50.,  0.,  0.,  0.]),\n array([50.,  0.,  0.,  0.]),\n array([50.,  0.,  0.,  0.]),\n array([50.,  0.,  0.,  0.]),\n array([50.,  0.,  0.,  0.]),\n array([50.,  0.,  0.,  0.]),\n array([50.,  0.,  0.,  0.]),\n array([50.,  0.,  0.,  0.]),\n array([50.,  0.,  0.,  0.]),\n array([50.,  0.,  0.,  0.]),\n array([50.,  0.,  0.,  0.]),\n array([50.,  0.,  0.,  0.]),\n array([50.,  0.,  0.,  0.]),\n array([50.,  0.,  0.,  0.]),\n array([50.,  0.,  0.,  0.]),\n array([50.,  0.,  0.,  0.]),\n array([50.,  0.,  0.,  0.]),\n array([50.,  0.,  0.,  0.]),\n array([50.,  0.,  0.,  0.]),\n array([50.,  0.,  0.,  0.]),\n array([50.,  0.,  0.,  0.]),\n array([50.,  0.,  0.,  0.]),\n array([50.,  0.,  0.,  0.]),\n array([50.,  0.,  0.,  0.]),\n array([50.,  0.,  0.,  0.]),\n array([50.,  0.,  0.,  0.]),\n array([50.,  0.,  0.,  0.]),\n array([50.,  0.,  0.,  0.]),\n array([50.,  0.,  0.,  0.]),\n array([50.,  0.,  0.,  0.]),\n array([50.,  0.,  0.,  0.]),\n array([50.,  0.,  0.,  0.]),\n array([50.,  0.,  0.,  0.]),\n array([50.,  0.,  0.,  0.]),\n array([50.,  0.,  0.,  0.]),\n array([50.,  0.,  0.,  0.]),\n array([50.,  0.,  0.,  0.]),\n array([50.,  0.,  0.,  0.]),\n array([50.,  0.,  0.,  0.]),\n array([50.,  0.,  0.,  0.]),\n array([50.,  0.,  0.,  0.]),\n array([50.,  0.,  0.,  0.]),\n array([50.,  0.,  0.,  0.]),\n array([50.,  0.,  0.,  0.]),\n array([50.,  0.,  0.,  0.])]"
     },
     "execution_count": 11,
     "metadata": {},
     "output_type": "execute_result"
    }
   ],
   "source": [
    "state_vector_list"
   ],
   "metadata": {
    "collapsed": false
   }
  }
 ],
 "metadata": {
  "kernelspec": {
   "display_name": "Python 3",
   "language": "python",
   "name": "python3"
  },
  "language_info": {
   "codemirror_mode": {
    "name": "ipython",
    "version": 2
   },
   "file_extension": ".py",
   "mimetype": "text/x-python",
   "name": "python",
   "nbconvert_exporter": "python",
   "pygments_lexer": "ipython2",
   "version": "2.7.6"
  }
 },
 "nbformat": 4,
 "nbformat_minor": 0
}
